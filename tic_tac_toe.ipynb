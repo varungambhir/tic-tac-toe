{
 "cells": [
  {
   "cell_type": "code",
   "execution_count": 1,
   "metadata": {},
   "outputs": [
    {
     "name": "stdout",
     "output_type": "stream",
     "text": [
      "Header files!\n"
     ]
    }
   ],
   "source": [
    "import cv2\n",
    "import numpy as np\n",
    "import imutils\n",
    "print(\"Header files!\")"
   ]
  },
  {
   "cell_type": "code",
   "execution_count": 3,
   "metadata": {},
   "outputs": [
    {
     "name": "stdout",
     "output_type": "stream",
     "text": [
      "(480, 440, 3)\n"
     ]
    }
   ],
   "source": [
    "image = cv2.imread(\"/home/arpit/Pyimage Guru/contours_tictactoe.png\")\n",
    "print(image.shape)"
   ]
  },
  {
   "cell_type": "code",
   "execution_count": 4,
   "metadata": {},
   "outputs": [
    {
     "name": "stdout",
     "output_type": "stream",
     "text": [
      "(480, 440)\n"
     ]
    }
   ],
   "source": [
    "gray = cv2.cvtColor(image, cv2.COLOR_BGR2GRAY)\n",
    "print(gray.shape)"
   ]
  },
  {
   "cell_type": "code",
   "execution_count": 8,
   "metadata": {},
   "outputs": [
    {
     "data": {
      "text/plain": [
       "27"
      ]
     },
     "execution_count": 8,
     "metadata": {},
     "output_type": "execute_result"
    }
   ],
   "source": [
    "#find contours\n",
    "cnts = cv2.findContours(gray.copy(), cv2.RETR_EXTERNAL, cv2.CHAIN_APPROX_SIMPLE)\n",
    "cnts = cnts[0] if imutils.is_cv2() else cnts[1]\n",
    "\n",
    "for c in cnts:\n",
    "    area = cv2.contourArea(c)\n",
    "    (x,y,w,h) = cv2.boundingRect(c)\n",
    "    \n",
    "    #find convex hull\n",
    "    hull = cv2.convexHull(c)\n",
    "    hullArea = cv2.contourArea(hull)\n",
    "    solidity = area/float(hullArea)\n",
    "    \n",
    "    char = \"?\"\n",
    "    \n",
    "    if solidity > 0.9:\n",
    "        char = \"O\"\n",
    "    elif(solidity>0.5):\n",
    "        char = \"X\"\n",
    "        \n",
    "    if(char!=\"?\"):\n",
    "        cv2.drawContours(image, [c], -1, (0,255,0), 2)\n",
    "        cv2.putText(image, char, (x, y - 10), cv2.FONT_HERSHEY_SIMPLEX, 1.25, (0, 255, 0), 4)\n",
    "\n",
    "cv2.imshow(\"Image\", image)\n",
    "cv2.waitKey(0)"
   ]
  },
  {
   "cell_type": "code",
   "execution_count": 9,
   "metadata": {},
   "outputs": [
    {
     "name": "stdout",
     "output_type": "stream",
     "text": [
      "(300, 300)\n"
     ]
    }
   ],
   "source": [
    "image = cv2.imread(\"/home/arpit/Pyimage Guru/more_shapes_example.png\")\n",
    "gray = cv2.cvtColor(image, cv2.COLOR_BGR2GRAY)\n",
    "\n",
    "print(gray.shape)"
   ]
  },
  {
   "cell_type": "code",
   "execution_count": 12,
   "metadata": {},
   "outputs": [
    {
     "name": "stdout",
     "output_type": "stream",
     "text": [
      "\n",
      "Contour\n",
      "\n",
      "2.736111111111111\n",
      "0.4924562887760857\n",
      "0.7827646102986496\n",
      "\n",
      "Contour\n",
      "\n",
      "1.0\n",
      "0.7884707328734376\n",
      "0.993801652892562\n",
      "\n",
      "Contour\n",
      "\n",
      "3.326923076923077\n",
      "0.9751000444642063\n",
      "1.0\n"
     ]
    },
    {
     "data": {
      "text/plain": [
       "27"
      ]
     },
     "execution_count": 12,
     "metadata": {},
     "output_type": "execute_result"
    }
   ],
   "source": [
    "#find contours\n",
    "cnts = cv2.findContours(gray.copy(), cv2.RETR_EXTERNAL, cv2.CHAIN_APPROX_SIMPLE)\n",
    "cnts = cnts[0] if imutils.is_cv2() else cnts[1]\n",
    "\n",
    "i = 0\n",
    "\n",
    "for c in cnts:\n",
    "    (x,y,w,h) = cv2.boundingRect(c)\n",
    "    area = cv2.contourArea(c)\n",
    "    \n",
    "    aspectRatio = float(w)/float(h)\n",
    "    extent = area/float(w*h)\n",
    "    \n",
    "    hull = cv2.convexHull(c)\n",
    "    hullArea = cv2.contourArea(hull)\n",
    "    solidity = area/float(hullArea)\n",
    "    \n",
    "    print()\n",
    "    print(\"Contour\")\n",
    "    print()\n",
    "    \n",
    "    print(aspectRatio)\n",
    "    print(extent)\n",
    "    print(solidity)\n",
    "    \n",
    "    if(i==0):\n",
    "        cv2.rectangle(image, (x,y), (x+w,y+h), (0,255,0), -1)\n",
    "        i=1\n",
    "    elif(i==1):\n",
    "        cv2.rectangle(image, (x,y), (x+w,y+h), (255,0,0), -1)\n",
    "        i=2\n",
    "    else:\n",
    "        cv2.rectangle(image, (x,y), (x+w,y+h), (0,0,255), -1)\n",
    "        \n",
    "cv2.imshow(\"Image\", image)\n",
    "cv2.waitKey(0)"
   ]
  },
  {
   "cell_type": "code",
   "execution_count": null,
   "metadata": {
    "collapsed": true
   },
   "outputs": [],
   "source": []
  }
 ],
 "metadata": {
  "kernelspec": {
   "display_name": "Python 3",
   "language": "python",
   "name": "python3"
  },
  "language_info": {
   "codemirror_mode": {
    "name": "ipython",
    "version": 3
   },
   "file_extension": ".py",
   "mimetype": "text/x-python",
   "name": "python",
   "nbconvert_exporter": "python",
   "pygments_lexer": "ipython3",
   "version": "3.6.5"
  }
 },
 "nbformat": 4,
 "nbformat_minor": 2
}


